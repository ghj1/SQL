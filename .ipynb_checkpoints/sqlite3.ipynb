{
 "cells": [
  {
   "cell_type": "code",
   "execution_count": 11,
   "id": "b0671f12",
   "metadata": {},
   "outputs": [],
   "source": [
    "import sqlite3\n",
    "import datetime"
   ]
  },
  {
   "cell_type": "code",
   "execution_count": 12,
   "id": "39e608d2",
   "metadata": {},
   "outputs": [
    {
     "name": "stdout",
     "output_type": "stream",
     "text": [
      "sqlite3 version:  2.6.0\n"
     ]
    }
   ],
   "source": [
    "print('sqlite3 version: ', sqlite3.version)"
   ]
  },
  {
   "cell_type": "code",
   "execution_count": 13,
   "id": "4eeae743",
   "metadata": {},
   "outputs": [
    {
     "name": "stdout",
     "output_type": "stream",
     "text": [
      "now :  2021-10-25 17:27:31.479563\n",
      "nowDatetime :  2021-10-25 17:27:31\n"
     ]
    }
   ],
   "source": [
    "now = datetime.datetime.now()\n",
    "print('now : ', now)\n",
    "nowDatetime = now.strftime('%Y-%m-%d %H:%M:%S')\n",
    "print('nowDatetime : ', nowDatetime)"
   ]
  },
  {
   "cell_type": "code",
   "execution_count": 14,
   "id": "a79cac06",
   "metadata": {},
   "outputs": [],
   "source": [
    "conn = sqlite3.connect(\"database1.db\", isolation_level = None)"
   ]
  },
  {
   "cell_type": "code",
   "execution_count": 15,
   "id": "8f94a920",
   "metadata": {},
   "outputs": [
    {
     "name": "stdout",
     "output_type": "stream",
     "text": [
      "cursor type:  <class 'sqlite3.Cursor'>\n"
     ]
    }
   ],
   "source": [
    "cur = conn.cursor()\n",
    "print('cursor type: ', type(cur))"
   ]
  },
  {
   "cell_type": "markdown",
   "id": "8df09227",
   "metadata": {},
   "source": [
    "### 1-4 DB테이블 생성 "
   ]
  },
  {
   "cell_type": "code",
   "execution_count": 16,
   "id": "c27ec64d",
   "metadata": {},
   "outputs": [
    {
     "ename": "OperationalError",
     "evalue": "table usersd already exists",
     "output_type": "error",
     "traceback": [
      "\u001b[0;31m---------------------------------------------------------------------------\u001b[0m",
      "\u001b[0;31mOperationalError\u001b[0m                          Traceback (most recent call last)",
      "\u001b[0;32m/tmp/ipykernel_16314/3194105658.py\u001b[0m in \u001b[0;36m<module>\u001b[0;34m\u001b[0m\n\u001b[0;32m----> 1\u001b[0;31m cur.execute(\"create table usersd(id integer primary key, \\\n\u001b[0m\u001b[1;32m      2\u001b[0m username text, email text, phone text, website text, regdate text)\")\n",
      "\u001b[0;31mOperationalError\u001b[0m: table usersd already exists"
     ]
    }
   ],
   "source": [
    "cur.execute(\"create table usersd(id integer primary key, \\\n",
    "username text, email text, phone text, website text, regdate text)\")"
   ]
  },
  {
   "cell_type": "code",
   "execution_count": 17,
   "id": "dc0b79a5",
   "metadata": {},
   "outputs": [
    {
     "ename": "IntegrityError",
     "evalue": "UNIQUE constraint failed: usersd.id",
     "output_type": "error",
     "traceback": [
      "\u001b[0;31m---------------------------------------------------------------------------\u001b[0m",
      "\u001b[0;31mIntegrityError\u001b[0m                            Traceback (most recent call last)",
      "\u001b[0;32m/tmp/ipykernel_16314/3990763521.py\u001b[0m in \u001b[0;36m<module>\u001b[0;34m\u001b[0m\n\u001b[1;32m      1\u001b[0m \u001b[0;31m# 테이블 생성(Data Type : TEXT, NUMERIC, INTEGER, REAL, BLOB)\u001b[0m\u001b[0;34m\u001b[0m\u001b[0;34m\u001b[0m\u001b[0;34m\u001b[0m\u001b[0m\n\u001b[0;32m----> 2\u001b[0;31m \u001b[0mcur\u001b[0m\u001b[0;34m.\u001b[0m\u001b[0mexecute\u001b[0m\u001b[0;34m(\u001b[0m\u001b[0;34m\"INSERT INTO usersd VALUES(1, 'Kim', 'kim@cozlab.com', '010-1234-5678', 'cozlab.com', ?)\"\u001b[0m\u001b[0;34m,\u001b[0m \u001b[0;34m(\u001b[0m\u001b[0mnowDatetime\u001b[0m\u001b[0;34m,\u001b[0m\u001b[0;34m)\u001b[0m\u001b[0;34m)\u001b[0m\u001b[0;34m\u001b[0m\u001b[0;34m\u001b[0m\u001b[0m\n\u001b[0m",
      "\u001b[0;31mIntegrityError\u001b[0m: UNIQUE constraint failed: usersd.id"
     ]
    }
   ],
   "source": [
    "# 테이블 생성(Data Type : TEXT, NUMERIC, INTEGER, REAL, BLOB)\n",
    "cur.execute(\"INSERT INTO usersd VALUES(1, 'Kim', 'kim@cozlab.com', '010-1234-5678', 'cozlab.com', ?)\", (nowDatetime,))"
   ]
  },
  {
   "cell_type": "code",
   "execution_count": 47,
   "id": "f0081316",
   "metadata": {},
   "outputs": [
    {
     "ename": "AttributeError",
     "evalue": "'builtin_function_or_method' object has no attribute 'execute'",
     "output_type": "error",
     "traceback": [
      "\u001b[0;31m---------------------------------------------------------------------------\u001b[0m",
      "\u001b[0;31mAttributeError\u001b[0m                            Traceback (most recent call last)",
      "\u001b[0;32m/tmp/ipykernel_16314/1613038558.py\u001b[0m in \u001b[0;36m<module>\u001b[0;34m\u001b[0m\n\u001b[1;32m      1\u001b[0m \u001b[0;31m# 데이터 insert 튜플형식\u001b[0m\u001b[0;34m\u001b[0m\u001b[0;34m\u001b[0m\u001b[0;34m\u001b[0m\u001b[0m\n\u001b[0;32m----> 2\u001b[0;31m cur.execute(\"INSERT INTO usersd (id, username, email, phone, website, regdate) VALUES (?,?,?,?,?,?)\", \\\n\u001b[0m\u001b[1;32m      3\u001b[0m             (2, 'Park', 'park@naver.com', '010-3456-4567', 'park.com', nowDatetime))\n",
      "\u001b[0;31mAttributeError\u001b[0m: 'builtin_function_or_method' object has no attribute 'execute'"
     ]
    }
   ],
   "source": [
    "# 데이터 insert 튜플형식\n",
    "cur.execute(\"INSERT INTO usersd (id, username, email, phone, website, regdate) VALUES (?,?,?,?,?,?)\", \\\n",
    "            (2, 'Park', 'park@naver.com', '010-3456-4567', 'park.com', nowDatetime))"
   ]
  },
  {
   "cell_type": "code",
   "execution_count": 48,
   "id": "39cd7e2b",
   "metadata": {},
   "outputs": [
    {
     "ename": "AttributeError",
     "evalue": "'builtin_function_or_method' object has no attribute 'executemany'",
     "output_type": "error",
     "traceback": [
      "\u001b[0;31m---------------------------------------------------------------------------\u001b[0m",
      "\u001b[0;31mAttributeError\u001b[0m                            Traceback (most recent call last)",
      "\u001b[0;32m/tmp/ipykernel_16314/1692022900.py\u001b[0m in \u001b[0;36m<module>\u001b[0;34m\u001b[0m\n\u001b[1;32m      7\u001b[0m \u001b[0;34m(\u001b[0m\u001b[0;36m6\u001b[0m\u001b[0;34m,\u001b[0m \u001b[0;34m'Sea'\u001b[0m\u001b[0;34m,\u001b[0m \u001b[0;34m'sea@naver.com'\u001b[0m\u001b[0;34m,\u001b[0m \u001b[0;34m'010-6666-6666'\u001b[0m\u001b[0;34m,\u001b[0m \u001b[0;34m'sea.com'\u001b[0m\u001b[0;34m,\u001b[0m \u001b[0mnowDatetime\u001b[0m\u001b[0;34m)\u001b[0m\u001b[0;34m,\u001b[0m\u001b[0;34m\u001b[0m\u001b[0;34m\u001b[0m\u001b[0m\n\u001b[1;32m      8\u001b[0m )\n\u001b[0;32m----> 9\u001b[0;31m \u001b[0mcur\u001b[0m\u001b[0;34m.\u001b[0m\u001b[0mexecutemany\u001b[0m\u001b[0;34m(\u001b[0m\u001b[0;34m\"INSERT INTO usersd(id, username, email, phone, website, regdate) VALUES (?,?,?,?,?,?)\"\u001b[0m\u001b[0;34m,\u001b[0m \u001b[0muserList\u001b[0m\u001b[0;34m)\u001b[0m\u001b[0;34m\u001b[0m\u001b[0;34m\u001b[0m\u001b[0m\n\u001b[0m",
      "\u001b[0;31mAttributeError\u001b[0m: 'builtin_function_or_method' object has no attribute 'executemany'"
     ]
    }
   ],
   "source": [
    "#데이터 insert many 형식(튜플, 리스트)\n",
    "# 많은 양의 데이터를 한꺼번에 넣는 방법\n",
    "userList = (\n",
    "(3, 'Lee', 'lee@naver.com', '010-3333-3333', 'lee.com', nowDatetime),\n",
    "(4, 'Cho', 'cho@naver.com', '010-4444-4444', 'cho.com', nowDatetime),\n",
    "(5, 'Yue', 'yue@naver.com', '010-5555-5555', 'yue.com', nowDatetime),\n",
    "(6, 'Sea', 'sea@naver.com', '010-6666-6666', 'sea.com', nowDatetime),\n",
    ")\n",
    "cur.executemany(\"INSERT INTO usersd(id, username, email, phone, website, regdate) VALUES (?,?,?,?,?,?)\", userList)"
   ]
  },
  {
   "cell_type": "code",
   "execution_count": 20,
   "id": "5843da70",
   "metadata": {},
   "outputs": [
    {
     "data": {
      "text/plain": [
       "<sqlite3.Cursor at 0x7f43403cb7a0>"
      ]
     },
     "execution_count": 20,
     "metadata": {},
     "output_type": "execute_result"
    }
   ],
   "source": [
    "# 테이블데이터 보두 삭제\n",
    "cur.execute(\"DELETE FROM usersd\")"
   ]
  },
  {
   "cell_type": "code",
   "execution_count": 21,
   "id": "56e9bbc7",
   "metadata": {},
   "outputs": [
    {
     "data": {
      "text/plain": [
       "<sqlite3.Cursor at 0x7f43403cb7a0>"
      ]
     },
     "execution_count": 21,
     "metadata": {},
     "output_type": "execute_result"
    }
   ],
   "source": [
    "# 데이터 insert many 형식(튜플, 리스트)\n",
    "userList = (\n",
    "(1, 'kim', 'kim@naver.com', '010-3456-4567', 'kim.com', nowDatetime),\n",
    "(2, 'Park', 'park@naver.com', '010-3456-4567', 'park.com', nowDatetime),\n",
    "(3, 'Lee', 'lee@naver.com', '010-3333-3333', 'lee.com', nowDatetime),\n",
    "(4, 'Cho', 'cho@naver.com', '010-4444-4444', 'cho.com', nowDatetime),\n",
    "(5, 'Yue', 'yue@naver.com', '010-5555-5555', 'yue.com', nowDatetime),\n",
    "(6, 'Sea', 'sea@naver.com', '010-6666-6666', 'sea.com', nowDatetime),\n",
    ")\n",
    "cur.executemany(\"INSERT INTO usersd(id, username, email, phone, website, regdate) VALUES (?,?,?,?,?,?)\", userList)"
   ]
  },
  {
   "cell_type": "markdown",
   "id": "67c95edb",
   "metadata": {},
   "source": [
    "### DB 접속을 더이상 하지 않는다면, 접속 해제, 자원 반환하기\n",
    "cur.close()"
   ]
  },
  {
   "cell_type": "markdown",
   "id": "cdb1ba3e",
   "metadata": {},
   "source": [
    "커밋 , 롤백\n",
    "conn = sqlite3.connect(\"database.db\")\n",
    "명령을 실행해야함 .\n",
    "취소하고 싶을 경우 , conn.rollback() 바로 이전에 실행 취소함 .\n",
    "conn.commit()\n",
    "conn = sqlite3.connect(\"database.db\", isolation_level=None)\n",
    "isolation_level = None\n",
    "일 경우 자동 ( 오토 커밋 )"
   ]
  },
  {
   "cell_type": "markdown",
   "id": "bf81861e",
   "metadata": {},
   "source": [
    "## 1-5-2. Read(select)\n",
    "다양한 데이터 조회\n",
    "select\n",
    "where\n",
    "where\n",
    "조건의 tuple, dict Mapping"
   ]
  },
  {
   "cell_type": "code",
   "execution_count": 22,
   "id": "47a9143b",
   "metadata": {},
   "outputs": [
    {
     "name": "stdout",
     "output_type": "stream",
     "text": [
      "now :  2021-10-25 17:27:46.604976\n",
      "nowDatetime :  2021-10-25 17:27:46\n"
     ]
    }
   ],
   "source": [
    "import sqlite3\n",
    "import datetime\n",
    "# 삽입 날자 샛업\n",
    "now = datetime.datetime.now()\n",
    "print('now : ', now)\n",
    "nowDatetime = now.strftime('%Y-%m-%d %H:%M:%S')\n",
    "print('nowDatetime : ', nowDatetime)\n",
    "# auto commit(그때그때 DB에 반영), # rollback (되돌림))\n",
    "conn = sqlite3.connect(\"database1.db\") # 로컬 db\n",
    "cur = conn.cursor() # cursor binding"
   ]
  },
  {
   "cell_type": "code",
   "execution_count": 23,
   "id": "2b009766",
   "metadata": {},
   "outputs": [
    {
     "data": {
      "text/plain": [
       "<sqlite3.Cursor at 0x7f43403dd180>"
      ]
     },
     "execution_count": 23,
     "metadata": {},
     "output_type": "execute_result"
    }
   ],
   "source": [
    "cur.execute(\"SELECT * FROM usersd\")"
   ]
  },
  {
   "cell_type": "code",
   "execution_count": 24,
   "id": "a28ff102",
   "metadata": {},
   "outputs": [
    {
     "name": "stdout",
     "output_type": "stream",
     "text": [
      "one -> \n",
      " (1, 'kim', 'kim@naver.com', '010-3456-4567', 'kim.com', '2021-10-25 17:27:31')\n"
     ]
    }
   ],
   "source": [
    "#커서위 위치 변경\n",
    "#1개 로우 선택\n",
    "print('one -> \\n', cur.fetchone())"
   ]
  },
  {
   "cell_type": "code",
   "execution_count": 25,
   "id": "da435359",
   "metadata": {},
   "outputs": [
    {
     "name": "stdout",
     "output_type": "stream",
     "text": [
      "one -> \n",
      " (2, 'Park', 'park@naver.com', '010-3456-4567', 'park.com', '2021-10-25 17:27:31')\n"
     ]
    }
   ],
   "source": [
    "print('one -> \\n', cur.fetchone())"
   ]
  },
  {
   "cell_type": "code",
   "execution_count": 26,
   "id": "a9a8cd56",
   "metadata": {},
   "outputs": [
    {
     "name": "stdout",
     "output_type": "stream",
     "text": [
      "Three -> \n",
      " [(3, 'Lee', 'lee@naver.com', '010-3333-3333', 'lee.com', '2021-10-25 17:27:31'), (4, 'Cho', 'cho@naver.com', '010-4444-4444', 'cho.com', '2021-10-25 17:27:31'), (5, 'Yue', 'yue@naver.com', '010-5555-5555', 'yue.com', '2021-10-25 17:27:31')]\n"
     ]
    }
   ],
   "source": [
    "# 현재에서 3개 가져오기\n",
    "print('Three -> \\n', cur.fetchmany(size=3))"
   ]
  },
  {
   "cell_type": "code",
   "execution_count": 27,
   "id": "42b610c9",
   "metadata": {},
   "outputs": [
    {
     "name": "stdout",
     "output_type": "stream",
     "text": [
      "All -> \n",
      " [(6, 'Sea', 'sea@naver.com', '010-6666-6666', 'sea.com', '2021-10-25 17:27:31')]\n"
     ]
    }
   ],
   "source": [
    "#현재 cur가 있는 위치 이후,남은 것 모두\n",
    "print('All -> \\n', cur.fetchall())"
   ]
  },
  {
   "cell_type": "markdown",
   "id": "176fff30",
   "metadata": {},
   "source": [
    "select ~DB순회 (retriveve) 방법\n",
    "\n",
    "테이블을 돌며서 데이터를 읽어오는 것"
   ]
  },
  {
   "cell_type": "code",
   "execution_count": 28,
   "id": "fbf951c8",
   "metadata": {},
   "outputs": [
    {
     "data": {
      "text/plain": [
       "<sqlite3.Cursor at 0x7f43403dd180>"
      ]
     },
     "execution_count": 28,
     "metadata": {},
     "output_type": "execute_result"
    }
   ],
   "source": [
    "cur.execute(\"SELECT * FROM usersd\")"
   ]
  },
  {
   "cell_type": "code",
   "execution_count": 29,
   "id": "a63b0f9f",
   "metadata": {},
   "outputs": [
    {
     "name": "stdout",
     "output_type": "stream",
     "text": [
      "retrivel ->  (1, 'kim', 'kim@naver.com', '010-3456-4567', 'kim.com', '2021-10-25 17:27:31')\n",
      "retrivel ->  (2, 'Park', 'park@naver.com', '010-3456-4567', 'park.com', '2021-10-25 17:27:31')\n",
      "retrivel ->  (3, 'Lee', 'lee@naver.com', '010-3333-3333', 'lee.com', '2021-10-25 17:27:31')\n",
      "retrivel ->  (4, 'Cho', 'cho@naver.com', '010-4444-4444', 'cho.com', '2021-10-25 17:27:31')\n",
      "retrivel ->  (5, 'Yue', 'yue@naver.com', '010-5555-5555', 'yue.com', '2021-10-25 17:27:31')\n",
      "retrivel ->  (6, 'Sea', 'sea@naver.com', '010-6666-6666', 'sea.com', '2021-10-25 17:27:31')\n"
     ]
    }
   ],
   "source": [
    "# 순회 1:\n",
    "rows = cur.fetchall()\n",
    "for row in rows:\n",
    "    print('retrivel -> ', row)"
   ]
  },
  {
   "cell_type": "code",
   "execution_count": 30,
   "id": "94f1cdf3",
   "metadata": {},
   "outputs": [],
   "source": [
    "# 순회2 : 커서가 제일 끝에 있기 때문에 실행을 보려면 select를 다시 해야함.\n",
    "for row in cur.fetchall():\n",
    "    print('retrivel -> ', row)"
   ]
  },
  {
   "cell_type": "code",
   "execution_count": 31,
   "id": "f47683ff",
   "metadata": {},
   "outputs": [
    {
     "name": "stdout",
     "output_type": "stream",
     "text": [
      "retrivel ->  (6, 'Sea', 'sea@naver.com', '010-6666-6666', 'sea.com', '2021-10-25 17:27:31')\n",
      "retrivel ->  (5, 'Yue', 'yue@naver.com', '010-5555-5555', 'yue.com', '2021-10-25 17:27:31')\n",
      "retrivel ->  (4, 'Cho', 'cho@naver.com', '010-4444-4444', 'cho.com', '2021-10-25 17:27:31')\n",
      "retrivel ->  (3, 'Lee', 'lee@naver.com', '010-3333-3333', 'lee.com', '2021-10-25 17:27:31')\n",
      "retrivel ->  (2, 'Park', 'park@naver.com', '010-3456-4567', 'park.com', '2021-10-25 17:27:31')\n",
      "retrivel ->  (1, 'kim', 'kim@naver.com', '010-3456-4567', 'kim.com', '2021-10-25 17:27:31')\n"
     ]
    }
   ],
   "source": [
    "# 순회3\n",
    "for row in cur.execute('SELECT * FROM usersd ORDER BY id DESC'):\n",
    "    print('retrivel -> ', row)"
   ]
  },
  {
   "cell_type": "markdown",
   "id": "b102b800",
   "metadata": {},
   "source": [
    "select ~ where retriever(튜플형 , format 문 , dict 형 )"
   ]
  },
  {
   "cell_type": "code",
   "execution_count": 32,
   "id": "1c96926f",
   "metadata": {},
   "outputs": [
    {
     "name": "stdout",
     "output_type": "stream",
     "text": [
      "param1 (3, 'Lee', 'lee@naver.com', '010-3333-3333', 'lee.com', '2021-10-25 17:27:31')\n",
      "param1 []\n"
     ]
    }
   ],
   "source": [
    "# WHERE 조건1 튜플형\n",
    "param1 = (3,)\n",
    "cur.execute(\"SELECT * FROM usersd WHERE id=?\", param1)\n",
    "print('param1', cur.fetchone()) # 1개\n",
    "print('param1', cur.fetchall()) # 데이터 없음"
   ]
  },
  {
   "cell_type": "code",
   "execution_count": 33,
   "id": "d0548be3",
   "metadata": {},
   "outputs": [
    {
     "name": "stdout",
     "output_type": "stream",
     "text": [
      "param2 (4, 'Cho', 'cho@naver.com', '010-4444-4444', 'cho.com', '2021-10-25 17:27:31')\n"
     ]
    }
   ],
   "source": [
    "#WHERE 조건 2 데이터 타입의 format 문으로\n",
    "param2 = 4\n",
    "cur.execute(\"SELECT * FROM usersd WHERE id='%s'\" % param2) # %s %f %d\n",
    "print('param2', cur.fetchone()) #1개\n",
    "#print('param2', cur.fetchall()) #1개"
   ]
  },
  {
   "cell_type": "code",
   "execution_count": 34,
   "id": "628209b0",
   "metadata": {},
   "outputs": [
    {
     "name": "stdout",
     "output_type": "stream",
     "text": [
      "param3 (5, 'Yue', 'yue@naver.com', '010-5555-5555', 'yue.com', '2021-10-25 17:27:31')\n",
      "param3 []\n"
     ]
    }
   ],
   "source": [
    "#WHERE 조건3 dict 형\n",
    "cur.execute(\"SELECT * FROM usersd WHERE id=:id\", {\"id\":5}) #WHERE id=:id <= dict형 조건\n",
    "print('param3', cur.fetchone()) # 1개\n",
    "print('param3', cur.fetchall()) # 1개"
   ]
  },
  {
   "cell_type": "code",
   "execution_count": 35,
   "id": "326adfc3",
   "metadata": {},
   "outputs": [
    {
     "name": "stdout",
     "output_type": "stream",
     "text": [
      "param4 :  [(3, 'Lee', 'lee@naver.com', '010-3333-3333', 'lee.com', '2021-10-25 17:27:31'), (5, 'Yue', 'yue@naver.com', '010-5555-5555', 'yue.com', '2021-10-25 17:27:31')]\n"
     ]
    }
   ],
   "source": [
    "param4 = (3,5)\n",
    "cur.execute(\"SELECT * FROM usersd WHERE id IN(?,?) \", param4)\n",
    "print('param4 : ', cur.fetchall())"
   ]
  },
  {
   "cell_type": "code",
   "execution_count": 36,
   "id": "25beee4b",
   "metadata": {},
   "outputs": [
    {
     "name": "stdout",
     "output_type": "stream",
     "text": [
      "param5 :  [(3, 'Lee', 'lee@naver.com', '010-3333-3333', 'lee.com', '2021-10-25 17:27:31'), (4, 'Cho', 'cho@naver.com', '010-4444-4444', 'cho.com', '2021-10-25 17:27:31')]\n"
     ]
    }
   ],
   "source": [
    "#WHERE 조건5\n",
    "cur.execute(\"SELECT * FROM usersd WHERE id IN('%d','%d') \" % (3,4))\n",
    "print('param5 : ', cur.fetchall())"
   ]
  },
  {
   "cell_type": "code",
   "execution_count": 37,
   "id": "85b840ee",
   "metadata": {},
   "outputs": [
    {
     "name": "stdout",
     "output_type": "stream",
     "text": [
      "param6 [(2, 'Park', 'park@naver.com', '010-3456-4567', 'park.com', '2021-10-25 17:27:31'), (5, 'Yue', 'yue@naver.com', '010-5555-5555', 'yue.com', '2021-10-25 17:27:31')]\n"
     ]
    }
   ],
   "source": [
    "# WHERE 조건6 WHERE OR\n",
    "#WHERE id=:id <= dict형 조건\n",
    "cur.execute(\"SELECT * FROM usersd WHERE id=:id1 OR id=:id2\", {\"id1\":2, \"id2\":5})\n",
    "print('param6', cur.fetchall()) # 1개"
   ]
  },
  {
   "cell_type": "markdown",
   "id": "dbe44a08",
   "metadata": {},
   "source": [
    "DUMP 출력\n",
    "\n",
    "dump: db를 백업받는 것, 다른 시스템으로 db를 재구성할 때 사용."
   ]
  },
  {
   "cell_type": "code",
   "execution_count": 38,
   "id": "d494885c",
   "metadata": {},
   "outputs": [
    {
     "name": "stdout",
     "output_type": "stream",
     "text": [
      "Dump print Complete\n"
     ]
    }
   ],
   "source": [
    "with conn: # db 연결, file로 저장\n",
    "    with open('./dump.sql', 'w') as f:\n",
    "        for line in conn.iterdump():\n",
    "            f.write('%s\\n' % line)\n",
    "        print('Dump print Complete')"
   ]
  },
  {
   "cell_type": "code",
   "execution_count": 39,
   "id": "b3c70d2d",
   "metadata": {},
   "outputs": [],
   "source": [
    "# db 연결 종료\n",
    "conn.close()"
   ]
  },
  {
   "cell_type": "markdown",
   "id": "655e18bf",
   "metadata": {},
   "source": [
    "## 1-5-3. DB Update"
   ]
  },
  {
   "cell_type": "markdown",
   "id": "e65910a1",
   "metadata": {},
   "source": [
    "DB 테이블 내용을 수정하는 것"
   ]
  },
  {
   "cell_type": "code",
   "execution_count": 40,
   "id": "de3c59c5",
   "metadata": {},
   "outputs": [],
   "source": [
    "conn = sqlite3.connect(\"database1.db\")\n",
    "cur = conn.cursor()"
   ]
  },
  {
   "cell_type": "code",
   "execution_count": 41,
   "id": "ca231225",
   "metadata": {},
   "outputs": [
    {
     "data": {
      "text/plain": [
       "<sqlite3.Cursor at 0x7f43403cbc00>"
      ]
     },
     "execution_count": 41,
     "metadata": {},
     "output_type": "execute_result"
    }
   ],
   "source": [
    "#kim -> joy를 바꾸기, 튜플\n",
    "cur.execute(\"UPDATE usersd SET username = ? WHERE id = ?\" ,('joy', 1))"
   ]
  },
  {
   "cell_type": "code",
   "execution_count": 42,
   "id": "0c0198bd",
   "metadata": {},
   "outputs": [
    {
     "data": {
      "text/plain": [
       "<sqlite3.Cursor at 0x7f43403cbc00>"
      ]
     },
     "execution_count": 42,
     "metadata": {},
     "output_type": "execute_result"
    }
   ],
   "source": [
    "#park -> 2 joy로 바꾸기, dict\n",
    "cur.execute(\"UPDATE usersd SET username = :name WHERE id = :id\", {'name': 'good', 'id':2})"
   ]
  },
  {
   "cell_type": "code",
   "execution_count": 43,
   "id": "79dc8664",
   "metadata": {},
   "outputs": [],
   "source": [
    "conn.commit()"
   ]
  },
  {
   "cell_type": "markdown",
   "id": "05c348fb",
   "metadata": {},
   "source": [
    "## 1-5-4 DB Delete"
   ]
  },
  {
   "cell_type": "markdown",
   "id": "b9583c63",
   "metadata": {},
   "source": [
    "DB 테이블 데이터 삭제하기"
   ]
  },
  {
   "cell_type": "code",
   "execution_count": 44,
   "id": "56909651",
   "metadata": {},
   "outputs": [
    {
     "name": "stdout",
     "output_type": "stream",
     "text": [
      "now:  2021-10-25 17:28:06.425374\n",
      "nowDatetime:  2021-10-25 17:28:06\n"
     ]
    }
   ],
   "source": [
    "import sqlite3\n",
    "import datetime \n",
    "now = datetime.datetime.now()\n",
    "print('now: ', now)\n",
    "nowDatetime = now.strftime('%Y-%m-%d %H:%M:%S')\n",
    "print('nowDatetime: ', nowDatetime)\n",
    "\n",
    "conn = sqlite3.connect('database.db')\n",
    "cur = conn.cursor"
   ]
  },
  {
   "cell_type": "code",
   "execution_count": 45,
   "id": "992f2789",
   "metadata": {},
   "outputs": [
    {
     "ename": "AttributeError",
     "evalue": "'builtin_function_or_method' object has no attribute 'execute'",
     "output_type": "error",
     "traceback": [
      "\u001b[0;31m---------------------------------------------------------------------------\u001b[0m",
      "\u001b[0;31mAttributeError\u001b[0m                            Traceback (most recent call last)",
      "\u001b[0;32m/tmp/ipykernel_16314/3712906375.py\u001b[0m in \u001b[0;36m<module>\u001b[0;34m\u001b[0m\n\u001b[1;32m      2\u001b[0m \u001b[0;31m# cur.execute(\"DELETE FROM users\")\u001b[0m\u001b[0;34m\u001b[0m\u001b[0;34m\u001b[0m\u001b[0;34m\u001b[0m\u001b[0m\n\u001b[1;32m      3\u001b[0m \u001b[0;31m# 삭제 한 것 카운트해서 반환함: cur.execute(\"DELETE FROM usersd\").rowcount\u001b[0m\u001b[0;34m\u001b[0m\u001b[0;34m\u001b[0m\u001b[0;34m\u001b[0m\u001b[0m\n\u001b[0;32m----> 4\u001b[0;31m \u001b[0mprint\u001b[0m\u001b[0;34m(\u001b[0m\u001b[0;34m\"user db delete: \"\u001b[0m\u001b[0;34m,\u001b[0m \u001b[0mcur\u001b[0m\u001b[0;34m.\u001b[0m\u001b[0mexecute\u001b[0m\u001b[0;34m(\u001b[0m\u001b[0;34m\"DELETE FROM usersd\"\u001b[0m\u001b[0;34m)\u001b[0m\u001b[0;34m.\u001b[0m\u001b[0mrowcount\u001b[0m\u001b[0;34m)\u001b[0m\u001b[0;34m\u001b[0m\u001b[0;34m\u001b[0m\u001b[0m\n\u001b[0m",
      "\u001b[0;31mAttributeError\u001b[0m: 'builtin_function_or_method' object has no attribute 'execute'"
     ]
    }
   ],
   "source": [
    "# 테이블 데이터 모두 삭제 \n",
    "# cur.execute(\"DELETE FROM users\")\n",
    "# 삭제 한 것 카운트해서 반환함: cur.execute(\"DELETE FROM usersd\").rowcount\n",
    "print(\"user db delete: \", cur.execute(\"DELETE FROM usersd\").rowcount)"
   ]
  },
  {
   "cell_type": "code",
   "execution_count": 10,
   "id": "cc1129f5",
   "metadata": {},
   "outputs": [
    {
     "ename": "AttributeError",
     "evalue": "'builtin_function_or_method' object has no attribute 'executemany'",
     "output_type": "error",
     "traceback": [
      "\u001b[0;31m---------------------------------------------------------------------------\u001b[0m",
      "\u001b[0;31mAttributeError\u001b[0m                            Traceback (most recent call last)",
      "\u001b[0;32m/tmp/ipykernel_16314/1280121266.py\u001b[0m in \u001b[0;36m<module>\u001b[0;34m\u001b[0m\n\u001b[1;32m      8\u001b[0m     \u001b[0;34m(\u001b[0m\u001b[0;36m6\u001b[0m\u001b[0;34m,\u001b[0m \u001b[0;34m'Sea'\u001b[0m\u001b[0;34m,\u001b[0m \u001b[0;34m'sea@naver.com'\u001b[0m\u001b[0;34m,\u001b[0m \u001b[0;34m'010-6666-6666'\u001b[0m\u001b[0;34m,\u001b[0m \u001b[0;34m'sea.com'\u001b[0m\u001b[0;34m,\u001b[0m \u001b[0mnowDatetime\u001b[0m\u001b[0;34m)\u001b[0m\u001b[0;34m,\u001b[0m\u001b[0;34m\u001b[0m\u001b[0;34m\u001b[0m\u001b[0m\n\u001b[1;32m      9\u001b[0m )\n\u001b[0;32m---> 10\u001b[0;31m \u001b[0mcur\u001b[0m\u001b[0;34m.\u001b[0m\u001b[0mexecutemany\u001b[0m\u001b[0;34m(\u001b[0m\u001b[0;34m\"INSERT INTO usersd(id, username, email, phone, website, regdate) VALUES (?,?,?,?,?,?)\"\u001b[0m\u001b[0;34m,\u001b[0m \u001b[0muserList\u001b[0m\u001b[0;34m)\u001b[0m\u001b[0;34m\u001b[0m\u001b[0;34m\u001b[0m\u001b[0m\n\u001b[0m",
      "\u001b[0;31mAttributeError\u001b[0m: 'builtin_function_or_method' object has no attribute 'executemany'"
     ]
    }
   ],
   "source": [
    "# 데이터 insert many 형식(튜플, 리스트)\n",
    "userList = (\n",
    "    (1, 'kim', 'kim@naver.com', '010-3456-4567', 'kim.com', nowDatetime),\n",
    "    (2, 'Park', 'park@naver.com', '010-3456-4567', 'park.com', nowDatetime),\n",
    "    (3, 'Lee', 'lee@naver.com', '010-3333-3333', 'lee.com', nowDatetime),\n",
    "    (4, 'Cho', 'cho@naver.com', '010-4444-4444', 'cho.com', nowDatetime),\n",
    "    (5, 'Yue', 'yue@naver.com', '010-5555-5555', 'yue.com', nowDatetime),\n",
    "    (6, 'Sea', 'sea@naver.com', '010-6666-6666', 'sea.com', nowDatetime),\n",
    ")\n",
    "cur.executemany(\"INSERT INTO usersd(id, username, email, phone, website, regdate) VALUES (?,?,?,?,?,?)\", userList)"
   ]
  },
  {
   "cell_type": "code",
   "execution_count": null,
   "id": "8d300911",
   "metadata": {},
   "outputs": [],
   "source": [
    "# 삭제: 튜플형으로\n",
    "cur.execute(\"DELETE FROM usersd WHERE id = ?\", (2,))"
   ]
  },
  {
   "cell_type": "code",
   "execution_count": null,
   "id": "e42ae0a7",
   "metadata": {},
   "outputs": [],
   "source": [
    "# 확인하기 \n",
    "for user in cur.execute(\"SELECT * FROM usersb\"):\n",
    "    print(user)"
   ]
  },
  {
   "cell_type": "code",
   "execution_count": null,
   "id": "0582b8c6",
   "metadata": {},
   "outputs": [],
   "source": [
    "#삭제 : dict형으로 \n",
    "cur.execute(\"DELETE FROM usersd WHERE id = :id\", {\"id\": 4}) "
   ]
  },
  {
   "cell_type": "code",
   "execution_count": null,
   "id": "f5a7ea45",
   "metadata": {},
   "outputs": [],
   "source": [
    "# 확인하기 \n",
    "for user in cur.execute(\"SELECT * FROM usersb\"):\n",
    "    print(user)"
   ]
  },
  {
   "cell_type": "code",
   "execution_count": null,
   "id": "62d5aad1",
   "metadata": {},
   "outputs": [],
   "source": [
    "#삭제 : format 형으로 \n",
    "cur.execute(\"DELETE FROM users WHERE id = %d\" %1)"
   ]
  },
  {
   "cell_type": "code",
   "execution_count": null,
   "id": "4417f940",
   "metadata": {},
   "outputs": [],
   "source": [
    "# 확인하기 \n",
    "for user in cur.execute(\"SELECT * FROM usersb\"):\n",
    "    print(user)"
   ]
  },
  {
   "cell_type": "code",
   "execution_count": null,
   "id": "3deafe91",
   "metadata": {},
   "outputs": [],
   "source": [
    "# 삭제 : WHERE 조건으로\n",
    "cur.execute(\"DELETE FROM users WHERE id=:id AND username=:name\", {\"id\":3, \"name\":\"Lee\"}) #WHERE id=:Id <= dict형 조건"
   ]
  },
  {
   "cell_type": "code",
   "execution_count": null,
   "id": "e9d0e390",
   "metadata": {},
   "outputs": [],
   "source": [
    "for user in cur.execute(\"SELECT * FROM users\"):\n",
    "print(user)"
   ]
  },
  {
   "cell_type": "code",
   "execution_count": null,
   "id": "f0252d5d",
   "metadata": {},
   "outputs": [],
   "source": [
    "# 데이터 전체 삭제 : 삭제된 행 카운트 출력\n",
    "print(\"user db deleted : \", conn.execute(\"DELETE FROM usersdb\").rowcount, \" rows\")"
   ]
  },
  {
   "cell_type": "code",
   "execution_count": null,
   "id": "11c0fafd",
   "metadata": {},
   "outputs": [],
   "source": [
    "conn.commit()\n",
    "conn.close()"
   ]
  },
  {
   "cell_type": "markdown",
   "id": "3e9b33a5",
   "metadata": {},
   "source": [
    "## DB 사용 권장 이유 \n",
    "1. 최신 데이터를 통합관리를 할 수 있기 때문\n",
    "2. 요즘은 데이터가 자산인 시대\n",
    "3. 새로운 서비스 창출 할 수 있음 .\n",
    "4. 데이터는 4 차 산업혁명 시대에 원유와 같음 ."
   ]
  },
  {
   "cell_type": "code",
   "execution_count": null,
   "id": "db32441e",
   "metadata": {},
   "outputs": [],
   "source": []
  }
 ],
 "metadata": {
  "kernelspec": {
   "display_name": "sqlVENV",
   "language": "python",
   "name": "sqlvenv"
  },
  "language_info": {
   "codemirror_mode": {
    "name": "ipython",
    "version": 3
   },
   "file_extension": ".py",
   "mimetype": "text/x-python",
   "name": "python",
   "nbconvert_exporter": "python",
   "pygments_lexer": "ipython3",
   "version": "3.8.0"
  }
 },
 "nbformat": 4,
 "nbformat_minor": 5
}
